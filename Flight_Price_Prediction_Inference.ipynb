{
 "cells": [
  {
   "cell_type": "markdown",
   "metadata": {},
   "source": [
    "# 1 - Introduction"
   ]
  },
  {
   "cell_type": "markdown",
   "metadata": {},
   "source": [
    "Name : Gilang Wiradhyaksa"
   ]
  },
  {
   "cell_type": "markdown",
   "metadata": {},
   "source": [
    "# 2 - Import Libraries"
   ]
  },
  {
   "cell_type": "code",
   "execution_count": 37,
   "metadata": {},
   "outputs": [],
   "source": [
    "# Import Library\n",
    "import pickle\n",
    "import pandas as pd\n",
    "import numpy as np"
   ]
  },
  {
   "cell_type": "markdown",
   "metadata": {},
   "source": [
    "# 3 - Load Files"
   ]
  },
  {
   "cell_type": "code",
   "execution_count": 38,
   "metadata": {},
   "outputs": [],
   "source": [
    "#MODEL\n",
    "with open('best_model_dt.pkl', 'rb') as file_1:\n",
    "    best_model_dt = pickle.load(file_1)"
   ]
  },
  {
   "cell_type": "markdown",
   "metadata": {},
   "source": [
    "# 4 - Create Data"
   ]
  },
  {
   "cell_type": "code",
   "execution_count": 39,
   "metadata": {},
   "outputs": [],
   "source": [
    "data_inf = {\n",
    "    'airline': {0: 'Vistara', 1: 'Indigo', 2: 'Air_India', 3: 'Air_India', 4: 'Vistara'},\n",
    "    'flight': {0: 'UK-830', 1: '6E-531', 2: 'AI-624', 3: 'AI-501', 4: 'UK-875'},\n",
    "    'source_city': {0: 'Hyderabad', 1: 'Hyderabad', 2: 'Delhi', 3: 'Bangalore', 4: 'Mumbai'}, \n",
    "    'departure_time': {0: 'Morning', 1: 'Early_Morning', 2: 'Evening', 3: 'Afternoon', 4: 'Evening'},\n",
    "    'stops': {0: 'one', 1: 'one', 2: 'one', 3: 'one', 4: 'one'},\n",
    "    'arrival_time': {0: 'Night', 1: 'Morning', 2: 'Evening', 3: 'Night', 4: 'Morning'},\n",
    "    'destination_city': {0: 'Bangalore', 1: 'Bangalore', 2: 'Bangalore', 3: 'Hyderabad', 4: 'Delhi'},\n",
    "    'class': {0: 'Business', 1: 'Economy', 2: 'Economy', 3: 'Business', 4: 'Business'},\n",
    "    'duration': {0: 10.08, 1: 3.5, 2: 23.5, 3: 10.25, 4: 13.67},\n",
    "    'days_left': {0: 40, 1: 24, 2: 3, 3: 46, 4: 38},\n",
    "    'price': {0: 56702, 1: 2737, 2: 10680, 3: 56476, 4: 41269}\n",
    "    }"
   ]
  },
  {
   "cell_type": "code",
   "execution_count": 40,
   "metadata": {},
   "outputs": [
    {
     "data": {
      "text/html": [
       "<div>\n",
       "<style scoped>\n",
       "    .dataframe tbody tr th:only-of-type {\n",
       "        vertical-align: middle;\n",
       "    }\n",
       "\n",
       "    .dataframe tbody tr th {\n",
       "        vertical-align: top;\n",
       "    }\n",
       "\n",
       "    .dataframe thead th {\n",
       "        text-align: right;\n",
       "    }\n",
       "</style>\n",
       "<table border=\"1\" class=\"dataframe\">\n",
       "  <thead>\n",
       "    <tr style=\"text-align: right;\">\n",
       "      <th></th>\n",
       "      <th>airline</th>\n",
       "      <th>flight</th>\n",
       "      <th>source_city</th>\n",
       "      <th>departure_time</th>\n",
       "      <th>stops</th>\n",
       "      <th>arrival_time</th>\n",
       "      <th>destination_city</th>\n",
       "      <th>class</th>\n",
       "      <th>duration</th>\n",
       "      <th>days_left</th>\n",
       "      <th>price</th>\n",
       "    </tr>\n",
       "  </thead>\n",
       "  <tbody>\n",
       "    <tr>\n",
       "      <th>0</th>\n",
       "      <td>Vistara</td>\n",
       "      <td>UK-830</td>\n",
       "      <td>Hyderabad</td>\n",
       "      <td>Morning</td>\n",
       "      <td>one</td>\n",
       "      <td>Night</td>\n",
       "      <td>Bangalore</td>\n",
       "      <td>Business</td>\n",
       "      <td>10.08</td>\n",
       "      <td>40</td>\n",
       "      <td>56702</td>\n",
       "    </tr>\n",
       "    <tr>\n",
       "      <th>1</th>\n",
       "      <td>Indigo</td>\n",
       "      <td>6E-531</td>\n",
       "      <td>Hyderabad</td>\n",
       "      <td>Early_Morning</td>\n",
       "      <td>one</td>\n",
       "      <td>Morning</td>\n",
       "      <td>Bangalore</td>\n",
       "      <td>Economy</td>\n",
       "      <td>3.50</td>\n",
       "      <td>24</td>\n",
       "      <td>2737</td>\n",
       "    </tr>\n",
       "    <tr>\n",
       "      <th>2</th>\n",
       "      <td>Air_India</td>\n",
       "      <td>AI-624</td>\n",
       "      <td>Delhi</td>\n",
       "      <td>Evening</td>\n",
       "      <td>one</td>\n",
       "      <td>Evening</td>\n",
       "      <td>Bangalore</td>\n",
       "      <td>Economy</td>\n",
       "      <td>23.50</td>\n",
       "      <td>3</td>\n",
       "      <td>10680</td>\n",
       "    </tr>\n",
       "    <tr>\n",
       "      <th>3</th>\n",
       "      <td>Air_India</td>\n",
       "      <td>AI-501</td>\n",
       "      <td>Bangalore</td>\n",
       "      <td>Afternoon</td>\n",
       "      <td>one</td>\n",
       "      <td>Night</td>\n",
       "      <td>Hyderabad</td>\n",
       "      <td>Business</td>\n",
       "      <td>10.25</td>\n",
       "      <td>46</td>\n",
       "      <td>56476</td>\n",
       "    </tr>\n",
       "    <tr>\n",
       "      <th>4</th>\n",
       "      <td>Vistara</td>\n",
       "      <td>UK-875</td>\n",
       "      <td>Mumbai</td>\n",
       "      <td>Evening</td>\n",
       "      <td>one</td>\n",
       "      <td>Morning</td>\n",
       "      <td>Delhi</td>\n",
       "      <td>Business</td>\n",
       "      <td>13.67</td>\n",
       "      <td>38</td>\n",
       "      <td>41269</td>\n",
       "    </tr>\n",
       "  </tbody>\n",
       "</table>\n",
       "</div>"
      ],
      "text/plain": [
       "     airline  flight source_city departure_time stops arrival_time  \\\n",
       "0    Vistara  UK-830   Hyderabad        Morning   one        Night   \n",
       "1     Indigo  6E-531   Hyderabad  Early_Morning   one      Morning   \n",
       "2  Air_India  AI-624       Delhi        Evening   one      Evening   \n",
       "3  Air_India  AI-501   Bangalore      Afternoon   one        Night   \n",
       "4    Vistara  UK-875      Mumbai        Evening   one      Morning   \n",
       "\n",
       "  destination_city     class  duration  days_left  price  \n",
       "0        Bangalore  Business     10.08         40  56702  \n",
       "1        Bangalore   Economy      3.50         24   2737  \n",
       "2        Bangalore   Economy     23.50          3  10680  \n",
       "3        Hyderabad  Business     10.25         46  56476  \n",
       "4            Delhi  Business     13.67         38  41269  "
      ]
     },
     "execution_count": 40,
     "metadata": {},
     "output_type": "execute_result"
    }
   ],
   "source": [
    "df = pd.DataFrame(data_inf)\n",
    "df"
   ]
  },
  {
   "cell_type": "markdown",
   "metadata": {},
   "source": [
    "# 5 - Inferencing"
   ]
  },
  {
   "cell_type": "code",
   "execution_count": 41,
   "metadata": {},
   "outputs": [],
   "source": [
    "y_predict_inf = best_model_dt.predict(df)"
   ]
  },
  {
   "cell_type": "code",
   "execution_count": 42,
   "metadata": {},
   "outputs": [
    {
     "data": {
      "text/html": [
       "<div>\n",
       "<style scoped>\n",
       "    .dataframe tbody tr th:only-of-type {\n",
       "        vertical-align: middle;\n",
       "    }\n",
       "\n",
       "    .dataframe tbody tr th {\n",
       "        vertical-align: top;\n",
       "    }\n",
       "\n",
       "    .dataframe thead th {\n",
       "        text-align: right;\n",
       "    }\n",
       "</style>\n",
       "<table border=\"1\" class=\"dataframe\">\n",
       "  <thead>\n",
       "    <tr style=\"text-align: right;\">\n",
       "      <th></th>\n",
       "      <th>airline</th>\n",
       "      <th>flight</th>\n",
       "      <th>source_city</th>\n",
       "      <th>departure_time</th>\n",
       "      <th>stops</th>\n",
       "      <th>arrival_time</th>\n",
       "      <th>destination_city</th>\n",
       "      <th>class</th>\n",
       "      <th>duration</th>\n",
       "      <th>days_left</th>\n",
       "      <th>price</th>\n",
       "      <th>prediction_price</th>\n",
       "    </tr>\n",
       "  </thead>\n",
       "  <tbody>\n",
       "    <tr>\n",
       "      <th>0</th>\n",
       "      <td>Vistara</td>\n",
       "      <td>UK-830</td>\n",
       "      <td>Hyderabad</td>\n",
       "      <td>Morning</td>\n",
       "      <td>one</td>\n",
       "      <td>Night</td>\n",
       "      <td>Bangalore</td>\n",
       "      <td>Business</td>\n",
       "      <td>10.08</td>\n",
       "      <td>40</td>\n",
       "      <td>56702</td>\n",
       "      <td>56447.993589</td>\n",
       "    </tr>\n",
       "    <tr>\n",
       "      <th>1</th>\n",
       "      <td>Indigo</td>\n",
       "      <td>6E-531</td>\n",
       "      <td>Hyderabad</td>\n",
       "      <td>Early_Morning</td>\n",
       "      <td>one</td>\n",
       "      <td>Morning</td>\n",
       "      <td>Bangalore</td>\n",
       "      <td>Economy</td>\n",
       "      <td>3.50</td>\n",
       "      <td>24</td>\n",
       "      <td>2737</td>\n",
       "      <td>4067.247664</td>\n",
       "    </tr>\n",
       "    <tr>\n",
       "      <th>2</th>\n",
       "      <td>Air_India</td>\n",
       "      <td>AI-624</td>\n",
       "      <td>Delhi</td>\n",
       "      <td>Evening</td>\n",
       "      <td>one</td>\n",
       "      <td>Evening</td>\n",
       "      <td>Bangalore</td>\n",
       "      <td>Economy</td>\n",
       "      <td>23.50</td>\n",
       "      <td>3</td>\n",
       "      <td>10680</td>\n",
       "      <td>13832.152769</td>\n",
       "    </tr>\n",
       "    <tr>\n",
       "      <th>3</th>\n",
       "      <td>Air_India</td>\n",
       "      <td>AI-501</td>\n",
       "      <td>Bangalore</td>\n",
       "      <td>Afternoon</td>\n",
       "      <td>one</td>\n",
       "      <td>Night</td>\n",
       "      <td>Hyderabad</td>\n",
       "      <td>Business</td>\n",
       "      <td>10.25</td>\n",
       "      <td>46</td>\n",
       "      <td>56476</td>\n",
       "      <td>51894.949829</td>\n",
       "    </tr>\n",
       "    <tr>\n",
       "      <th>4</th>\n",
       "      <td>Vistara</td>\n",
       "      <td>UK-875</td>\n",
       "      <td>Mumbai</td>\n",
       "      <td>Evening</td>\n",
       "      <td>one</td>\n",
       "      <td>Morning</td>\n",
       "      <td>Delhi</td>\n",
       "      <td>Business</td>\n",
       "      <td>13.67</td>\n",
       "      <td>38</td>\n",
       "      <td>41269</td>\n",
       "      <td>56447.993589</td>\n",
       "    </tr>\n",
       "  </tbody>\n",
       "</table>\n",
       "</div>"
      ],
      "text/plain": [
       "     airline  flight source_city departure_time stops arrival_time  \\\n",
       "0    Vistara  UK-830   Hyderabad        Morning   one        Night   \n",
       "1     Indigo  6E-531   Hyderabad  Early_Morning   one      Morning   \n",
       "2  Air_India  AI-624       Delhi        Evening   one      Evening   \n",
       "3  Air_India  AI-501   Bangalore      Afternoon   one        Night   \n",
       "4    Vistara  UK-875      Mumbai        Evening   one      Morning   \n",
       "\n",
       "  destination_city     class  duration  days_left  price  prediction_price  \n",
       "0        Bangalore  Business     10.08         40  56702      56447.993589  \n",
       "1        Bangalore   Economy      3.50         24   2737       4067.247664  \n",
       "2        Bangalore   Economy     23.50          3  10680      13832.152769  \n",
       "3        Hyderabad  Business     10.25         46  56476      51894.949829  \n",
       "4            Delhi  Business     13.67         38  41269      56447.993589  "
      ]
     },
     "execution_count": 42,
     "metadata": {},
     "output_type": "execute_result"
    }
   ],
   "source": [
    "df['prediction_price'] = y_predict_inf\n",
    "df"
   ]
  }
 ],
 "metadata": {
  "kernelspec": {
   "display_name": "base",
   "language": "python",
   "name": "python3"
  },
  "language_info": {
   "codemirror_mode": {
    "name": "ipython",
    "version": 3
   },
   "file_extension": ".py",
   "mimetype": "text/x-python",
   "name": "python",
   "nbconvert_exporter": "python",
   "pygments_lexer": "ipython3",
   "version": "3.11.4"
  },
  "orig_nbformat": 4
 },
 "nbformat": 4,
 "nbformat_minor": 2
}
